{
 "cells": [
  {
   "cell_type": "markdown",
   "id": "5e91bda2",
   "metadata": {},
   "source": [
    "# Neo4j\n",
    "\n",
    "\n",
    "\n",
    "## Deploy\n",
    "\n",
    "```\n",
    "docker run \\\n",
    "    --publish=7474:7474 --publish=7687:7687 \\\n",
    "    --env NEO4J_AUTH=none \\\n",
    "    --volume=./data:/data \\\n",
    "    neo4j:2025.08.0\n",
    "    \n",
    "```\n",
    "\n",
    "\n",
    "## Limitações da versão community:\n",
    "\n",
    "\n",
    "* Não suporta multiplos ambientes de grafos;\n",
    "* Não escala para multiplos nós\n",
    "* Controle de acesso baseado em função (RBAC) e recursos de segurança avançados, como integração LDAP, são exclusivos da Enterprise Edition.\n",
    "* Limite de nós: 34 bilhões\n",
    "* API do Spark funcional, mas limitada ao Spark 3.0+\n",
    "* Outras comparações: https://neo4j.com/pricing/\n"
   ]
  },
  {
   "cell_type": "markdown",
   "id": "1b2eed7d-f40f-491a-92ea-5c9c9e2c9282",
   "metadata": {},
   "source": [
    "# Experimentos com o Neo4j + Spark + Python\n",
    "\n",
    "Acessar `http://0.0.0.0:7474/browser/` e rodar o `:play movie-graph` (para a criação inicial do grafo)\n",
    "\n",
    "\n",
    "\n",
    "Sobre o conector Spark:\n",
    "* Doc: `https://neo4j.com/docs/spark/current/`\n",
    "* Compatibilidade: O conector suporta o Spark 3.0+\n",
    "\n",
    "\n",
    "Sobre o conector Python:\n",
    "* Doc: `https://neo4j.com/docs/python-manual/current/connect/`\n",
    "* Não permite multiplas ciphers em um único run;"
   ]
  },
  {
   "cell_type": "markdown",
   "id": "32c6326b-27db-4b9d-804d-537a1b2e5ff4",
   "metadata": {},
   "source": [
    "Exemplos de consulta para o grafo de exemplo \"Movies\":\n",
    "\n",
    "Find the actor named \"Tom Hanks\":\n",
    "    \n",
    "    `MATCH (tom {name: \"Tom Hanks\"}) RETURN tom`\n",
    "\n",
    "\n",
    "Find the movie with title \"Cloud Atlas\":\n",
    "\n",
    "    `MATCH (cloudAtlas {title: \"Cloud Atlas\"}) RETURN cloudAtlas`\n",
    "\n",
    "\n",
    "Find 10 people:\n",
    "\n",
    "    `MATCH (people:Person) RETURN people.name LIMIT 10`\n",
    "    \n",
    "Find movies released in the 1990s:\n",
    "\n",
    "    `MATCH (nineties:Movie) WHERE nineties.released >= 1990 AND nineties.released < 2000 RETURN nineties.title`\n",
    "\n",
    "\n",
    "Movies and actors up to 4 \"hops\" away from Kevin Bacon\n",
    "\n",
    "    `MATCH (bacon:Person {name:\"Kevin Bacon\"})-[*1..4]-(hollywood) RETURN DISTINCT hollywood`"
   ]
  },
  {
   "cell_type": "code",
   "execution_count": 87,
   "id": "88d8d177-9ff2-4cb0-bfaa-2f5695767e81",
   "metadata": {},
   "outputs": [],
   "source": [
    "\n",
    "from pyspark.sql import SparkSession\n",
    "\n",
    "# Configurações de conexão com Neo4j\n",
    "url = \"neo4j://localhost:7687\"  \n",
    "# username = \"neo4j\"\n",
    "# password = \"password\"\n",
    "dbname = \"neo4j\"\n",
    "\n",
    "# Criando a SparkSession com configurações globais\n",
    "spark = (\n",
    "    SparkSession.builder\n",
    "    .config(\"neo4j.url\", url)\n",
    "    .config('spark.jars.packages', 'org.neo4j:neo4j-connector-apache-spark_2.12:5.1.0_for_spark_3')\n",
    "    #.config(\"neo4j.authentication.basic.username\", username)\n",
    "    #.config(\"neo4j.authentication.basic.password\", password)\n",
    "    .config(\"neo4j.database\", dbname)\n",
    "    .getOrCreate()\n",
    ")"
   ]
  },
  {
   "cell_type": "markdown",
   "id": "47b9b65c-b959-40d2-8a97-883a8d279876",
   "metadata": {},
   "source": [
    "Find the actor named \"Tom Hanks\"..."
   ]
  },
  {
   "cell_type": "code",
   "execution_count": 103,
   "id": "e90e58d4-d6fc-42fa-949e-edc70c3e1fec",
   "metadata": {},
   "outputs": [
    {
     "name": "stdout",
     "output_type": "stream",
     "text": [
      "+----+--------+---------+----+\n",
      "|<id>|<labels>|name     |born|\n",
      "+----+--------+---------+----+\n",
      "|692 |[Person]|Tom Hanks|1956|\n",
      "+----+--------+---------+----+\n",
      "\n"
     ]
    }
   ],
   "source": [
    "query = \"\"\"\n",
    "  MATCH (tom {name: \"Tom Hanks\"})\n",
    "  RETURN tom\n",
    "\"\"\"\n",
    "\n",
    "df = spark.read.format(\"org.neo4j.spark.DataSource\")\\\n",
    "  .option(\"query\", query)\\\n",
    "  .load()\\\n",
    "  .select(\"tom.*\")\n",
    "\n",
    "df.show(truncate=False)\n"
   ]
  },
  {
   "cell_type": "markdown",
   "id": "fd3c2aa5-5cdb-481a-891d-02e0cc8a731b",
   "metadata": {},
   "source": [
    "Find movies released in the 1990s..."
   ]
  },
  {
   "cell_type": "code",
   "execution_count": 104,
   "id": "693d623a-9f5e-4a62-a6ac-7f58216256f0",
   "metadata": {},
   "outputs": [
    {
     "name": "stdout",
     "output_type": "stream",
     "text": [
      "+----------------------+\n",
      "|nineties.title        |\n",
      "+----------------------+\n",
      "|The Matrix            |\n",
      "|The Devil's Advocate  |\n",
      "|A Few Good Men        |\n",
      "|As Good as It Gets    |\n",
      "|What Dreams May Come  |\n",
      "|Snow Falling on Cedars|\n",
      "|You've Got Mail       |\n",
      "|Sleepless in Seattle  |\n",
      "|Joe Versus the Volcano|\n",
      "|When Harry Met Sally  |\n",
      "|That Thing You Do     |\n",
      "|The Birdcage          |\n",
      "|Unforgiven            |\n",
      "|Johnny Mnemonic       |\n",
      "|The Green Mile        |\n",
      "|Hoffa                 |\n",
      "|Apollo 13             |\n",
      "|Twister               |\n",
      "|Bicentennial Man      |\n",
      "|A League of Their Own |\n",
      "+----------------------+\n",
      "\n"
     ]
    }
   ],
   "source": [
    "query = \"\"\"\n",
    "  MATCH (nineties:Movie) WHERE nineties.released >= 1990 AND nineties.released < 2000 RETURN nineties.title\n",
    "\"\"\"\n",
    "\n",
    "df = spark.read.format(\"org.neo4j.spark.DataSource\")\\\n",
    "  .option(\"query\", query)\\\n",
    "  .load()\n",
    "\n",
    "df.show(truncate=False)"
   ]
  },
  {
   "cell_type": "markdown",
   "id": "42867185-6cf2-4967-a4fe-9fb6e66cfc63",
   "metadata": {},
   "source": [
    "Movies and actors up to 4 \"hops\" away from Kevin Bacon"
   ]
  },
  {
   "cell_type": "code",
   "execution_count": 105,
   "id": "5b449bba-90ba-4cdd-9cae-bb32c221c6c0",
   "metadata": {},
   "outputs": [
    {
     "name": "stdout",
     "output_type": "stream",
     "text": [
      "+----------------------------------------+\n",
      "|hollywood                               |\n",
      "+----------------------------------------+\n",
      "|{765, [Movie], null, null}              |\n",
      "|{758, [Movie], null, null}              |\n",
      "|{636, [Movie], null, null}              |\n",
      "|{754, [Person], Sam Rockwell, 1968}     |\n",
      "|{760, [Person], Michael Sheen, 1969}    |\n",
      "|{736, [Person], Ron Howard, 1954}       |\n",
      "|{759, [Person], Frank Langella, 1938}   |\n",
      "|{761, [Person], Oliver Platt, 1960}     |\n",
      "|{692, [Person], Tom Hanks, 1956}        |\n",
      "|{766, [Person], Ed Harris, 1950}        |\n",
      "|{755, [Person], Gary Sinise, 1955}      |\n",
      "|{767, [Person], Bill Paxton, 1955}      |\n",
      "|{646, [Person], James Marshall, 1967}   |\n",
      "|{644, [Person], Kevin Pollak, 1957}     |\n",
      "|{645, [Person], J.T. Walsh, 1943}       |\n",
      "|{649, [Person], Aaron Sorkin, 1961}     |\n",
      "|{643, [Person], Cuba Gooding Jr., 1968} |\n",
      "|{647, [Person], Christopher Guest, 1948}|\n",
      "|{648, [Person], Rob Reiner, 1947}       |\n",
      "|{642, [Person], Noah Wyle, 1971}        |\n",
      "+----------------------------------------+\n",
      "only showing top 20 rows\n",
      "\n"
     ]
    }
   ],
   "source": [
    "query = \"\"\"\n",
    "MATCH (bacon:Person {name:\"Kevin Bacon\"})-[*1..4]-(hollywood) RETURN DISTINCT hollywood\n",
    "\"\"\"\n",
    "\n",
    "df = spark.read.format(\"org.neo4j.spark.DataSource\")\\\n",
    "  .option(\"query\", query)\\\n",
    "  .load()\n",
    "\n",
    "df.show(truncate=False) #.select(\"hollywood.*\")"
   ]
  },
  {
   "cell_type": "markdown",
   "id": "94d07a3f-00d5-4f88-a584-7538c73be242",
   "metadata": {},
   "source": [
    "## Criando novo ator via Spark"
   ]
  },
  {
   "cell_type": "code",
   "execution_count": 106,
   "id": "9fc6c732-4971-46f5-b13e-c714e7c6338e",
   "metadata": {},
   "outputs": [
    {
     "name": "stderr",
     "output_type": "stream",
     "text": [
      "/opt/spark/python/pyspark/sql/pandas/conversion.py:474: FutureWarning: iteritems is deprecated and will be removed in a future version. Use .items instead.\n",
      "  for column, series in pdf.iteritems():\n",
      "/opt/spark/python/pyspark/sql/pandas/conversion.py:486: FutureWarning: iteritems is deprecated and will be removed in a future version. Use .items instead.\n",
      "  for column, series in pdf.iteritems():\n"
     ]
    },
    {
     "name": "stdout",
     "output_type": "stream",
     "text": [
      "+-----------+----+\n",
      "|       name|born|\n",
      "+-----------+----+\n",
      "|Lucas Ponce|1991|\n",
      "+-----------+----+\n",
      "\n"
     ]
    }
   ],
   "source": [
    "import pandas as pd\n",
    "data = spark.createDataFrame(pd.DataFrame([[\"Lucas Ponce\",1991]], columns=[ \"name\",\"born\"]))\n",
    "data.show()"
   ]
  },
  {
   "cell_type": "code",
   "execution_count": 107,
   "id": "a3abe0d7-44da-4038-9695-ee3a3ce6c21e",
   "metadata": {},
   "outputs": [
    {
     "name": "stdout",
     "output_type": "stream",
     "text": [
      "25/09/05 11:27:15 WARN SchemaService: Switching to query schema resolution\n"
     ]
    }
   ],
   "source": [
    "(\n",
    "    data.write.format(\"org.neo4j.spark.DataSource\")\n",
    "    .mode(\"Overwrite\")\n",
    "    .option(\"labels\", \"Person\")\n",
    "    .option(\"node.keys\", \"name,born\")\n",
    "    .save()\n",
    ")\n",
    "\n",
    "ds = (\n",
    "    spark.read.format(\"org.neo4j.spark.DataSource\")\n",
    "    .option(\"labels\", \"Person\")\n",
    "    .load()\n",
    ")"
   ]
  },
  {
   "cell_type": "code",
   "execution_count": 108,
   "id": "102d5285-3a28-46a5-ac06-66827f2e6f77",
   "metadata": {},
   "outputs": [
    {
     "name": "stdout",
     "output_type": "stream",
     "text": [
      "+----+--------+-----------+----+\n",
      "|<id>|<labels>|       name|born|\n",
      "+----+--------+-----------+----+\n",
      "| 792|[Person]|Lucas Ponce|1991|\n",
      "+----+--------+-----------+----+\n",
      "\n"
     ]
    }
   ],
   "source": [
    "ds.filter(\"name == 'Lucas Ponce'\").show()"
   ]
  },
  {
   "cell_type": "code",
   "execution_count": 109,
   "id": "751034c6-a7a0-4029-b77f-702d955b7c16",
   "metadata": {},
   "outputs": [
    {
     "name": "stdout",
     "output_type": "stream",
     "text": [
      "== Physical Plan ==\n",
      "*(1) Project [<id>#594L, <labels>#595, name#596, born#597L]\n",
      "+- *(1) Filter (isnotnull(name#596) AND (name#596 = Lucas Ponce))\n",
      "   +- BatchScan[<id>#594L, <labels>#595, name#596, born#597L] class org.neo4j.spark.reader.Neo4jScan RuntimeFilters: []\n",
      "\n",
      "\n"
     ]
    }
   ],
   "source": [
    "ds.filter(\"name == 'Lucas Ponce'\").explain()"
   ]
  },
  {
   "cell_type": "markdown",
   "id": "d12068f0-c73e-4ba8-82d3-4eda434e2e42",
   "metadata": {},
   "source": [
    "## Adicionando filmes ao ator:"
   ]
  },
  {
   "cell_type": "code",
   "execution_count": 110,
   "id": "70327173-81a9-46aa-8da7-6b2007970120",
   "metadata": {},
   "outputs": [
    {
     "name": "stderr",
     "output_type": "stream",
     "text": [
      "/opt/spark/python/pyspark/sql/pandas/conversion.py:474: FutureWarning: iteritems is deprecated and will be removed in a future version. Use .items instead.\n",
      "  for column, series in pdf.iteritems():\n",
      "/opt/spark/python/pyspark/sql/pandas/conversion.py:486: FutureWarning: iteritems is deprecated and will be removed in a future version. Use .items instead.\n",
      "  for column, series in pdf.iteritems():\n"
     ]
    },
    {
     "name": "stdout",
     "output_type": "stream",
     "text": [
      "+-----------+-------------------+-----------------+\n",
      "|       name|              title|relationship_type|\n",
      "+-----------+-------------------+-----------------+\n",
      "|Lucas Ponce|         The Matrix|         ACTED_IN|\n",
      "|Lucas Ponce|The Matrix Reloaded|         ACTED_IN|\n",
      "+-----------+-------------------+-----------------+\n",
      "\n"
     ]
    }
   ],
   "source": [
    "# DataFrame com múltiplos relacionamentos\n",
    "relationships_data = pd.DataFrame([\n",
    "    (\"Lucas Ponce\", \"The Matrix\", \"ACTED_IN\"),\n",
    "    (\"Lucas Ponce\",  \"The Matrix Reloaded\", \"ACTED_IN\")\n",
    "], columns=[\"name\", \"title\", \"relationship_type\"])\n",
    "\n",
    "df_multiple = spark.createDataFrame(relationships_data)\n",
    "\n",
    "df_multiple.show()"
   ]
  },
  {
   "cell_type": "code",
   "execution_count": 111,
   "id": "f3722184-720e-4b33-9595-8821e8ee184a",
   "metadata": {},
   "outputs": [],
   "source": [
    "df_multiple.write \\\n",
    "    .format(\"org.neo4j.spark.DataSource\") \\\n",
    "    .mode(\"append\") \\\n",
    "    .option(\"relationship\", \"ACTED_IN\") \\\n",
    "    .option(\"relationship.save.strategy\", \"keys\") \\\n",
    "    .option(\"relationship.source.labels\", \":Person\") \\\n",
    "    .option(\"relationship.source.save.mode\", \"Match\") \\\n",
    "    .option(\"relationship.source.node.keys\", \"name:name\") \\\n",
    "    .option(\"relationship.target.labels\", \":Movie\") \\\n",
    "    .option(\"relationship.target.save.mode\", \"Match\") \\\n",
    "    .option(\"relationship.target.node.keys\", \"title:title\") \\\n",
    "    .save()"
   ]
  },
  {
   "cell_type": "code",
   "execution_count": 113,
   "id": "53994ec2-3aa1-4f71-bf3d-bea37f1c8825",
   "metadata": {},
   "outputs": [
    {
     "name": "stdout",
     "output_type": "stream",
     "text": [
      "+-----------+-------------------+--------------+------+\n",
      "|ator       |filme              |ano_lancamento|papeis|\n",
      "+-----------+-------------------+--------------+------+\n",
      "|Lucas Ponce|The Matrix         |1999          |null  |\n",
      "|Lucas Ponce|The Matrix Reloaded|2003          |null  |\n",
      "+-----------+-------------------+--------------+------+\n",
      "\n"
     ]
    }
   ],
   "source": [
    "query = \"\"\"\n",
    "MATCH (lucas:Person {name: \"Lucas Ponce\"})-[rel:ACTED_IN]->(movies:Movie)\n",
    "RETURN lucas.name AS ator, \n",
    "       movies.title AS filme, \n",
    "       movies.released AS ano_lancamento,\n",
    "       rel.roles AS papeis\n",
    "ORDER BY movies.released\n",
    "\"\"\"\n",
    "\n",
    "df = spark.read.format(\"org.neo4j.spark.DataSource\")\\\n",
    "  .option(\"query\", query)\\\n",
    "  .load()\n",
    "\n",
    "df.show(truncate=False)"
   ]
  },
  {
   "cell_type": "code",
   "execution_count": 115,
   "id": "20990d3d-2881-48b3-950a-29ee02f29590",
   "metadata": {},
   "outputs": [],
   "source": [
    "spark.stop()"
   ]
  },
  {
   "cell_type": "markdown",
   "id": "a298df69-39b9-4d4d-b5fd-5709cc8501cf",
   "metadata": {},
   "source": [
    "# Python"
   ]
  },
  {
   "cell_type": "code",
   "execution_count": 36,
   "id": "4108d49e-792b-4a60-a602-1f515d16a07f",
   "metadata": {},
   "outputs": [
    {
     "name": "stdout",
     "output_type": "stream",
     "text": [
      "Defaulting to user installation because normal site-packages is not writeable\n",
      "Collecting neo4j\n",
      "  Downloading neo4j-5.28.2-py3-none-any.whl.metadata (5.9 kB)\n",
      "Requirement already satisfied: pytz in /home/lucasmsp/.local/lib/python3.10/site-packages (from neo4j) (2024.1)\n",
      "Downloading neo4j-5.28.2-py3-none-any.whl (313 kB)\n",
      "Installing collected packages: neo4j\n",
      "Successfully installed neo4j-5.28.2\n",
      "\n",
      "\u001b[1m[\u001b[0m\u001b[34;49mnotice\u001b[0m\u001b[1;39;49m]\u001b[0m\u001b[39;49m A new release of pip is available: \u001b[0m\u001b[31;49m24.2\u001b[0m\u001b[39;49m -> \u001b[0m\u001b[32;49m25.2\u001b[0m\n",
      "\u001b[1m[\u001b[0m\u001b[34;49mnotice\u001b[0m\u001b[1;39;49m]\u001b[0m\u001b[39;49m To update, run: \u001b[0m\u001b[32;49mpython3 -m pip install --upgrade pip\u001b[0m\n"
     ]
    }
   ],
   "source": [
    "! pip install neo4j"
   ]
  },
  {
   "cell_type": "code",
   "execution_count": 114,
   "id": "f0ecbba4-a3be-4add-9bf0-c66699cff19c",
   "metadata": {},
   "outputs": [
    {
     "name": "stdout",
     "output_type": "stream",
     "text": [
      "Total de nós: 172\n",
      "Total de tipos de labels: 2\n",
      "Total de nós (atualizado): 0\n"
     ]
    }
   ],
   "source": [
    "from neo4j import GraphDatabase\n",
    "\n",
    "\n",
    "driver = GraphDatabase.driver(\"bolt://localhost:7687\", \n",
    "                             #auth=(\"neo4j\", \"password\")\n",
    "                             )\n",
    "\n",
    "with driver.session() as session:\n",
    "        \n",
    "    # Contar total de nós\n",
    "    result_nos = session.run(\"MATCH () RETURN count(*) as total_nos\")\n",
    "    total_nos = result_nos.single()[\"total_nos\"]\n",
    "\n",
    "    # Contar tipos de labels únicos\n",
    "    result_labels = session.run(\"\"\"\n",
    "        MATCH (n)\n",
    "        UNWIND labels(n) as label\n",
    "        RETURN count(DISTINCT label) as total_labels\n",
    "    \"\"\")\n",
    "    total_labels = result_labels.single()[\"total_labels\"]\n",
    "\n",
    "    print(f\"Total de nós: {total_nos}\")\n",
    "    print(f\"Total de tipos de labels: {total_labels}\")\n",
    "    \n",
    "    # Remover todos os nós\n",
    "    session.run(\"MATCH (n) DETACH DELETE n\")\n",
    "    \n",
    "    new_total_nos = session.run(\"MATCH () RETURN count(*) as total_nos\").single()[\"total_nos\"]\n",
    "    print(f\"Total de nós (atualizado): {new_total_nos}\")\n",
    "\n",
    "driver.close()"
   ]
  },
  {
   "cell_type": "markdown",
   "id": "3a4bf24f-fc69-4a3d-9c3f-5e112957df84",
   "metadata": {},
   "source": [
    "Outros exemplos:  https://github.com/neo4j/neo4j-spark-connector/blob/5.0/examples/neo4j_data_engineering.ipynb"
   ]
  },
  {
   "cell_type": "code",
   "execution_count": null,
   "id": "517d8609-5327-4593-8fe6-45956ea87d78",
   "metadata": {},
   "outputs": [],
   "source": []
  }
 ],
 "metadata": {
  "kernelspec": {
   "display_name": "Python 3 (ipykernel)",
   "language": "python",
   "name": "python3"
  },
  "language_info": {
   "codemirror_mode": {
    "name": "ipython",
    "version": 3
   },
   "file_extension": ".py",
   "mimetype": "text/x-python",
   "name": "python",
   "nbconvert_exporter": "python",
   "pygments_lexer": "ipython3",
   "version": "3.10.12"
  }
 },
 "nbformat": 4,
 "nbformat_minor": 5
}

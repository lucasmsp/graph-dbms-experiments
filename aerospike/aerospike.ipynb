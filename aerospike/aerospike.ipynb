{
 "cells": [
  {
   "cell_type": "markdown",
   "id": "837e815e-297d-4161-8cf3-d87b7ba7b868",
   "metadata": {},
   "source": [
    "# Aerospike\n",
    "\n",
    "\n",
    "Aerospike é um banco de dados multi-modelo. Os experimentos a seguir mostram um comandos básicos de criação de um grafo simples, e como interagir usando esse sistema. \n",
    "\n",
    "\n",
    "\n",
    "### Deploy\n",
    "\n",
    "```\n",
    "docker run -d --name aerospike \\\n",
    "  -p 3000-3002:3000-3002 \\\n",
    "  aerospike/aerospike-server\n",
    "  \n",
    "  \n",
    "# Ver informações do servidor\n",
    "docker exec aerospike asinfo -v status  \n",
    "```\n",
    "\n",
    "###  Limitações da Community Edition\n",
    "\n",
    "Segundo a documentação oficial, a **Community Edition** tem as seguintes restrições:\n",
    "\n",
    "\n",
    "| Aspecto | Community Edition | Enterprise Edition |\n",
    "| :-- | :-- | :-- |\n",
    "| **Cluster Size** | Máximo 8 nós | Até 256 nós |\n",
    "| **Data Limit** | Até 2.5 TB | Ilimitado |\n",
    "| **Namespaces** | Máximo 2 | Até 32 |"
   ]
  },
  {
   "cell_type": "markdown",
   "id": "b74b139a",
   "metadata": {},
   "source": [
    "## Abordagem 1 (multi-modelo)\n",
    "\n",
    "Doc: https://aerospike-python-client.readthedocs.io/en/latest/"
   ]
  },
  {
   "cell_type": "code",
   "execution_count": 1,
   "id": "cc87f6f7-452d-408d-9ef5-62a2a1a65012",
   "metadata": {},
   "outputs": [
    {
     "name": "stdout",
     "output_type": "stream",
     "text": [
      "Defaulting to user installation because normal site-packages is not writeable\n",
      "Collecting aerospike\n",
      "  Downloading aerospike-17.1.0-cp310-cp310-manylinux_2_28_x86_64.whl.metadata (5.4 kB)\n",
      "Downloading aerospike-17.1.0-cp310-cp310-manylinux_2_28_x86_64.whl (5.9 MB)\n",
      "\u001b[2K   \u001b[38;2;114;156;31m━━━━━━━━━━━━━━━━━━━━━━━━━━━━━━━━━━━━━━━━\u001b[0m \u001b[32m5.9/5.9 MB\u001b[0m \u001b[31m5.9 MB/s\u001b[0m eta \u001b[36m0:00:00\u001b[0m MB/s\u001b[0m eta \u001b[36m0:00:01\u001b[0m:03\u001b[0m\n",
      "\u001b[?25hInstalling collected packages: aerospike\n",
      "Successfully installed aerospike-17.1.0\n",
      "\n",
      "\u001b[1m[\u001b[0m\u001b[34;49mnotice\u001b[0m\u001b[1;39;49m]\u001b[0m\u001b[39;49m A new release of pip is available: \u001b[0m\u001b[31;49m24.2\u001b[0m\u001b[39;49m -> \u001b[0m\u001b[32;49m25.2\u001b[0m\n",
      "\u001b[1m[\u001b[0m\u001b[34;49mnotice\u001b[0m\u001b[1;39;49m]\u001b[0m\u001b[39;49m To update, run: \u001b[0m\u001b[32;49mpython3 -m pip install --upgrade pip\u001b[0m\n"
     ]
    }
   ],
   "source": [
    "! pip install aerospike"
   ]
  },
  {
   "cell_type": "code",
   "execution_count": 2,
   "id": "1c874afb-b9bf-4f47-aa62-d14a2d4718e8",
   "metadata": {},
   "outputs": [],
   "source": [
    "import aerospike\n",
    "\n",
    "config = {\n",
    "    'hosts': [('localhost', 3000)]\n",
    "}\n",
    "\n",
    "client = aerospike.client(config).connect()"
   ]
  },
  {
   "cell_type": "code",
   "execution_count": 3,
   "id": "672fb88e-7387-4f1d-882b-317980fa5ad7",
   "metadata": {},
   "outputs": [],
   "source": [
    "def criar_vertice(vertex_id, properties):\n",
    "    \"\"\"Criar um vértice no grafo\"\"\"\n",
    "    key = ('test', 'vertices', vertex_id)\n",
    "    record = {\n",
    "        'type': 'vertex',\n",
    "        'properties': properties,\n",
    "        'edges_out': [],  # Lista de arestas saindo\n",
    "        'edges_in': []    # Lista de arestas entrando\n",
    "    }\n",
    "    client.put(key, record)\n",
    "    return vertex_id\n",
    "\n",
    "def criar_aresta(edge_id, from_vertex, to_vertex, relationship_type, properties=None):\n",
    "    \"\"\"Criar uma aresta entre dois vértices\"\"\"\n",
    "    # Criar registro da aresta\n",
    "    edge_key = ('test', 'edges', edge_id)\n",
    "    edge_record = {\n",
    "        'type': 'edge',\n",
    "        'from': from_vertex,\n",
    "        'to': to_vertex,\n",
    "        'relationship': relationship_type,\n",
    "        'properties': properties or {}\n",
    "    }\n",
    "    client.put(edge_key, edge_record)\n",
    "    \n",
    "    # Atualizar listas de adjacência nos vértices\n",
    "    # Vértice origem\n",
    "    from_key = ('test', 'vertices', from_vertex)\n",
    "    try:\n",
    "        (key, metadata, from_record) = client.get(from_key)\n",
    "        from_record['edges_out'].append({\n",
    "            'edge_id': edge_id,\n",
    "            'to': to_vertex,\n",
    "            'type': relationship_type\n",
    "        })\n",
    "        client.put(from_key, from_record)\n",
    "    except aerospike.exception.RecordNotFound:\n",
    "        print(f\"Vértice {from_vertex} não encontrado\")\n",
    "    \n",
    "    # Vértice destino\n",
    "    to_key = ('test', 'vertices', to_vertex)\n",
    "    try:\n",
    "        (key, metadata, to_record) = client.get(to_key)\n",
    "        to_record['edges_in'].append({\n",
    "            'edge_id': edge_id,\n",
    "            'from': from_vertex,\n",
    "            'type': relationship_type\n",
    "        })\n",
    "        client.put(to_key, to_record)\n",
    "    except aerospike.exception.RecordNotFound:\n",
    "        print(f\"Vértice {to_vertex} não encontrado\")\n"
   ]
  },
  {
   "cell_type": "code",
   "execution_count": 4,
   "id": "2577a12d-fc58-4b9d-b161-33c382ce30d5",
   "metadata": {},
   "outputs": [
    {
     "name": "stdout",
     "output_type": "stream",
     "text": [
      "Grafo social criado com sucesso!\n"
     ]
    }
   ],
   "source": [
    "\n",
    "# Criar vértices (pessoas)\n",
    "criar_vertice('alice', {'name': 'Alice', 'age': 30, 'city': 'São Paulo'})\n",
    "criar_vertice('bob', {'name': 'Bob', 'age': 25, 'city': 'Rio de Janeiro'})\n",
    "criar_vertice('charlie', {'name': 'Charlie', 'age': 35, 'city': 'São Paulo'})\n",
    "\n",
    "# Criar arestas (relacionamentos)\n",
    "criar_aresta('edge1', 'alice', 'bob', 'FRIENDS', {'since': '2020'})\n",
    "criar_aresta('edge2', 'bob', 'charlie', 'FRIENDS', {'since': '2021'})\n",
    "criar_aresta('edge3', 'alice', 'charlie', 'COLLEAGUES', {'department': 'Engineering'})\n",
    "\n",
    "print(\"Grafo social criado com sucesso!\")\n"
   ]
  },
  {
   "cell_type": "code",
   "execution_count": 5,
   "id": "fedc0a65-40c9-4fc5-bdff-4c3c9450fbf5",
   "metadata": {},
   "outputs": [
    {
     "name": "stdout",
     "output_type": "stream",
     "text": [
      "Amigos da Alice: ['bob']\n"
     ]
    }
   ],
   "source": [
    "\n",
    "def consultar_amigos(vertex_id):\n",
    "    \"\"\"Consultar amigos de uma pessoa\"\"\"\n",
    "    key = ('test', 'vertices', vertex_id)\n",
    "    try:\n",
    "        (key, metadata, record) = client.get(key)\n",
    "        amigos = []\n",
    "        for edge in record['edges_out']:\n",
    "            if edge['type'] == 'FRIENDS':\n",
    "                amigos.append(edge['to'])\n",
    "        return amigos\n",
    "    except aerospike.exception.RecordNotFound:\n",
    "        return []\n",
    "\n",
    "\n",
    "# Consultar amigos da Alice\n",
    "amigos_alice = consultar_amigos('alice')\n",
    "print(f\"Amigos da Alice: {amigos_alice}\")"
   ]
  },
  {
   "cell_type": "code",
   "execution_count": 10,
   "id": "24f22e74-2654-4eb9-bb4f-827afc811d6c",
   "metadata": {},
   "outputs": [
    {
     "name": "stdout",
     "output_type": "stream",
     "text": [
      "Nenhum triângulo de 3 pessoas que se conhecem mutuamente foi encontrado.\n"
     ]
    }
   ],
   "source": [
    "def encontrar_triangulo_aerospike(client):\n",
    "    \"\"\"\n",
    "    Procura triângulos no grafo armazenado no Aerospike Database\n",
    "    \"\"\"\n",
    "    # Obter todas as pessoas\n",
    "    pessoas = []\n",
    "    \n",
    "    # Scan para encontrar todos os vértices do tipo pessoa\n",
    "    def scan_callback(input_tuple):\n",
    "        (key, metadata, record) = input_tuple\n",
    "        if record.get('type') == 'vertex' and 'name' in record.get('properties', {}):\n",
    "            pessoas.append({\n",
    "                'id': key[2], \n",
    "                'name': record['properties']['name'],\n",
    "                'amigos': [edge['to'] for edge in record.get('edges_out', []) \n",
    "                          if edge.get('type') == 'FRIENDS']\n",
    "            })\n",
    "    \n",
    "    # Executar scan\n",
    "    scan = client.scan('test', 'vertices')\n",
    "    scan.foreach(scan_callback)\n",
    "    \n",
    "    # Procurar triângulos\n",
    "    triangulos = []\n",
    "    \n",
    "    for i, pessoa_a in enumerate(pessoas):\n",
    "        for j, pessoa_b in enumerate(pessoas[i+1:], i+1):\n",
    "            for k, pessoa_c in enumerate(pessoas[j+1:], j+1):\n",
    "                # Verificar se A conhece B, B conhece C, e C conhece A\n",
    "                a_conhece_b = pessoa_b['id'] in pessoa_a['amigos']\n",
    "                b_conhece_c = pessoa_c['id'] in pessoa_b['amigos']\n",
    "                c_conhece_a = pessoa_a['id'] in pessoa_c['amigos']\n",
    "                \n",
    "                if a_conhece_b and b_conhece_c and c_conhece_a:\n",
    "                    triangulos.append({\n",
    "                        'pessoa1': pessoa_a['name'],\n",
    "                        'pessoa2': pessoa_b['name'], \n",
    "                        'pessoa3': pessoa_c['name']\n",
    "                    })\n",
    "    \n",
    "    return triangulos\n",
    "\n",
    "# Conectar e executar\n",
    "config = {'hosts': [('localhost', 3000)]}\n",
    "client = aerospike.client(config).connect()\n",
    "\n",
    "triangulos_encontrados = encontrar_triangulo_aerospike(client)\n",
    "\n",
    "if triangulos_encontrados:\n",
    "    print(f\"Encontrados {len(triangulos_encontrados)} triângulos de amizade:\")\n",
    "    for trio in triangulos_encontrados:\n",
    "        print(f\"- {trio['pessoa1']}, {trio['pessoa2']}, {trio['pessoa3']}\")\n",
    "else:\n",
    "    print(\"Nenhum triângulo de 3 pessoas que se conhecem mutuamente foi encontrado.\")\n"
   ]
  },
  {
   "cell_type": "code",
   "execution_count": 6,
   "id": "e6682473-f623-4f0c-b312-8cda9147e43f",
   "metadata": {},
   "outputs": [],
   "source": [
    "# Fechar conexão\n",
    "client.close()"
   ]
  },
  {
   "cell_type": "markdown",
   "id": "fe3286a0-3308-4cc1-9402-6cff9b4d5bda",
   "metadata": {},
   "source": [
    "## Abordagem 2 (Aerospike graph)"
   ]
  },
  {
   "cell_type": "markdown",
   "id": "012acb2b-86cf-4d73-92bf-7de8a7cb6552",
   "metadata": {},
   "source": [
    "A versão do Aerospike graph (que teria acesso ao Apache Tinkerpop/Gremlin) requer uma licença! \n",
    "\n",
    "*An Aerospike feature key file which has the graph-service key enabled. Click here to get a free 60 day trial key, or contact your Aerospike account manager.* \n",
    "\n",
    "Fonte: https://aerospike.com/docs/graph/install/docker"
   ]
  },
  {
   "cell_type": "code",
   "execution_count": null,
   "id": "81845ca6-9c15-43e8-9b2b-4a28ce196bed",
   "metadata": {},
   "outputs": [],
   "source": []
  }
 ],
 "metadata": {
  "kernelspec": {
   "display_name": "Python 3 (ipykernel)",
   "language": "python",
   "name": "python3"
  },
  "language_info": {
   "codemirror_mode": {
    "name": "ipython",
    "version": 3
   },
   "file_extension": ".py",
   "mimetype": "text/x-python",
   "name": "python",
   "nbconvert_exporter": "python",
   "pygments_lexer": "ipython3",
   "version": "3.10.12"
  }
 },
 "nbformat": 4,
 "nbformat_minor": 5
}

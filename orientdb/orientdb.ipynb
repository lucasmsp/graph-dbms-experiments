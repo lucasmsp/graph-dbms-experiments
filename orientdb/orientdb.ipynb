{
 "cells": [
  {
   "cell_type": "markdown",
   "id": "a80e2c1b",
   "metadata": {},
   "source": [
    "# OrientDB\n",
    "\n",
    "```\n",
    " docker compose up\n",
    "```\n",
    "\n",
    "## Limitações:\n",
    "* API de Python (pyorient) não está sendo mais mantido desde 2017, aprestando problemas de compatibilidade de protocolo com verões mais novas;\n",
    "* O suporte ao Tinkerpop ainda não está maduro, está em um projeto separado, como prova de conceito. Necessidade de compilar o projeto.\n",
    "    * https://orientdb.dev/docs/3.2.x/gettingstarted/Tutorial-Working-with-graphs.html\n",
    "    * https://biditsadhukhan.in/blogs/gremlin-orientdb/\n",
    "    * https://github.com/orientechnologies/orientdb-gremlin\n",
    "    * `Apache TinkerPop 3 graph structure implementation for OrientDB. This started off as just a proof of concept, but thanks to a lot of help it's now in a really good shape and it has been officially adopted by the OrientDB team to be part of OrientDB v3.x and should eventually replace OrientDB's graphdb implementation that is still on TinkerPop 2.`\n"
   ]
  },
  {
   "cell_type": "markdown",
   "id": "db98a3ec-2ea8-4ff2-948a-650647060a8a",
   "metadata": {},
   "source": []
  },
  {
   "cell_type": "code",
   "execution_count": null,
   "id": "d5e37ee0",
   "metadata": {},
   "outputs": [],
   "source": [
    "# Desinstalar pyorient oficial (não está mais sendo mantido)\n",
    "#! pip uninstall pyorient   --> Última versão da api em 2017! https://pypi.org/project/pyorient/#history\n",
    "\n",
    "# Instalar fork \"atualizado\":\n",
    "! pip install git+https://github.com/OpenConjecture/pyorient.git"
   ]
  },
  {
   "cell_type": "markdown",
   "id": "96938b77",
   "metadata": {},
   "source": [
    "A API Python dá problema de protocolo (38).. ai existem alternativas como https://medium.com/@smelomedina05/establish-a-connection-between-orientdb-container-and-python-flask-3080b092196f para forcar um protocolo... "
   ]
  },
  {
   "cell_type": "code",
   "execution_count": null,
   "id": "5e5f4e3d-78e7-48c3-8c13-380a1d5137f5",
   "metadata": {},
   "outputs": [],
   "source": [
    "import requests\n",
    "import json\n",
    "\n",
    "class OrientDBRestClient:\n",
    "    def __init__(self, host=\"localhost\", port=2480, username=\"root\", password=\"123456\"):\n",
    "        self.base_url = f\"http://{host}:{port}\"\n",
    "        self.auth = (username, password)\n",
    "        \n",
    "    def create_database(self, db_name, db_type=\"graph\"):\n",
    "        \"\"\"Criar banco via REST\"\"\"\n",
    "        url = f\"{self.base_url}/database/{db_name}/plocal/{db_type}\"\n",
    "        response = requests.post(url, auth=self.auth)\n",
    "        \n",
    "        if response.status_code in [200, 500]:  # 500 se já existe\n",
    "            print(f\"Banco '{db_name}' disponível\")\n",
    "            return True\n",
    "        return False\n",
    "    \n",
    "    def execute_sql(self, db_name, sql_command):\n",
    "        \"\"\"Executar SQL via REST\"\"\"\n",
    "        url = f\"{self.base_url}/command/{db_name}/sql\"\n",
    "        \n",
    "        response = requests.post(\n",
    "            url,\n",
    "            data=sql_command,\n",
    "            headers={'Content-Type': 'text/plain'},\n",
    "            auth=self.auth\n",
    "        )\n",
    "        \n",
    "        if response.status_code == 200:\n",
    "            try:\n",
    "                return response.json()\n",
    "            except:\n",
    "                return {\"result\": \"success\"}\n",
    "        else:\n",
    "            print(f\"Erro: {response.status_code} - {response.text}\")\n",
    "            return None\n",
    "\n",
    "\n",
    "client = OrientDBRestClient()\n",
    "db_name = \"test_graph\"\n",
    "\n",
    "# 1. Criar banco\n",
    "client.create_database(db_name)\n",
    "\n",
    "# 2. Criar classes (sem usar métodos específicos do PyOrient)\n",
    "client.execute_sql(db_name, \"CREATE CLASS Person EXTENDS V\")\n",
    "client.execute_sql(db_name, \"CREATE CLASS Knows EXTENDS E\")\n",
    "\n",
    "# 3. Inserir dados\n",
    "client.execute_sql(db_name, \"INSERT INTO Person SET name = 'Alice', age = 30\")\n",
    "client.execute_sql(db_name, \"INSERT INTO Person SET name = 'Bob', age = 25\")\n",
    "\n",
    "# 4. Criar relacionamento\n",
    "client.execute_sql(db_name, \"\"\"\n",
    "    CREATE EDGE Knows \n",
    "    FROM (SELECT FROM Person WHERE name = 'Alice') \n",
    "    TO (SELECT FROM Person WHERE name = 'Bob')\n",
    "\"\"\")\n",
    "\n",
    "# 5. Consultar\n",
    "result = client.execute_sql(db_name, \"SELECT * FROM Person\")\n",
    "if result and 'result' in result:\n",
    "    print(\"Pessoas encontradas:\")\n",
    "    for person in result['result']:\n",
    "        print(f\"  - {person.get('name')}, {person.get('age')} anos\")\n"
   ]
  }
 ],
 "metadata": {
  "kernelspec": {
   "display_name": "Python 3 (ipykernel)",
   "language": "python",
   "name": "python3"
  },
  "language_info": {
   "codemirror_mode": {
    "name": "ipython",
    "version": 3
   },
   "file_extension": ".py",
   "mimetype": "text/x-python",
   "name": "python",
   "nbconvert_exporter": "python",
   "pygments_lexer": "ipython3",
   "version": "3.10.12"
  }
 },
 "nbformat": 4,
 "nbformat_minor": 5
}

{
 "cells": [
  {
   "cell_type": "markdown",
   "id": "1c55870d",
   "metadata": {},
   "source": [
    "# Apache HugeGraph\n",
    "\n",
    "\n",
    "## Deploy:\n",
    "\n",
    "`docker compose up`\n",
    "\n",
    "## Observações:\n",
    "\n",
    "\n",
    "- Integração com Spark: Só permite escrever e em Scala/Java ! (https://github.com/apache/incubator-hugegraph-toolchain/tree/master/hugegraph-spark-connector)\n",
    "- API de Python funciona bem (pyhugegraph), mas não consegui usar a API nativa do Tinkerpop —> integação gremlin via string;\n",
    "- API REST (suporta Cypher)"
   ]
  },
  {
   "cell_type": "code",
   "execution_count": 3,
   "id": "0616c6c3-c59d-4059-b901-55b2006c6a0c",
   "metadata": {},
   "outputs": [
    {
     "name": "stdout",
     "output_type": "stream",
     "text": [
      "Defaulting to user installation because normal site-packages is not writeable\n",
      "Requirement already satisfied: hugegraph-python in /home/lucasmsp/.local/lib/python3.10/site-packages (1.5.0)\n",
      "Requirement already satisfied: decorator~=5.1.1 in /home/lucasmsp/.local/lib/python3.10/site-packages (from hugegraph-python) (5.1.1)\n",
      "Requirement already satisfied: requests~=2.32.0 in /home/lucasmsp/.local/lib/python3.10/site-packages (from hugegraph-python) (2.32.5)\n",
      "Requirement already satisfied: setuptools~=70.0.0 in /home/lucasmsp/.local/lib/python3.10/site-packages (from hugegraph-python) (70.0.0)\n",
      "Requirement already satisfied: urllib3~=2.2.2 in /home/lucasmsp/.local/lib/python3.10/site-packages (from hugegraph-python) (2.2.3)\n",
      "Requirement already satisfied: rich~=13.9.4 in /home/lucasmsp/.local/lib/python3.10/site-packages (from hugegraph-python) (13.9.4)\n",
      "Requirement already satisfied: charset_normalizer<4,>=2 in /home/lucasmsp/.local/lib/python3.10/site-packages (from requests~=2.32.0->hugegraph-python) (3.0.1)\n",
      "Requirement already satisfied: idna<4,>=2.5 in /usr/lib/python3/dist-packages (from requests~=2.32.0->hugegraph-python) (3.3)\n",
      "Requirement already satisfied: certifi>=2017.4.17 in /home/lucasmsp/.local/lib/python3.10/site-packages (from requests~=2.32.0->hugegraph-python) (2025.4.26)\n",
      "Requirement already satisfied: markdown-it-py>=2.2.0 in /usr/local/lib/python3.10/dist-packages (from rich~=13.9.4->hugegraph-python) (3.0.0)\n",
      "Requirement already satisfied: pygments<3.0.0,>=2.13.0 in /usr/local/lib/python3.10/dist-packages (from rich~=13.9.4->hugegraph-python) (2.17.2)\n",
      "Requirement already satisfied: typing-extensions<5.0,>=4.0.0 in /home/lucasmsp/.local/lib/python3.10/site-packages (from rich~=13.9.4->hugegraph-python) (4.10.0)\n",
      "Requirement already satisfied: mdurl~=0.1 in /usr/local/lib/python3.10/dist-packages (from markdown-it-py>=2.2.0->rich~=13.9.4->hugegraph-python) (0.1.2)\n",
      "\n",
      "\u001b[1m[\u001b[0m\u001b[34;49mnotice\u001b[0m\u001b[1;39;49m]\u001b[0m\u001b[39;49m A new release of pip is available: \u001b[0m\u001b[31;49m24.2\u001b[0m\u001b[39;49m -> \u001b[0m\u001b[32;49m25.2\u001b[0m\n",
      "\u001b[1m[\u001b[0m\u001b[34;49mnotice\u001b[0m\u001b[1;39;49m]\u001b[0m\u001b[39;49m To update, run: \u001b[0m\u001b[32;49mpython3 -m pip install --upgrade pip\u001b[0m\n"
     ]
    }
   ],
   "source": [
    "! pip3 install hugegraph-python"
   ]
  },
  {
   "cell_type": "code",
   "execution_count": 1,
   "id": "d5a67521-9eb8-430f-b86e-bcee56ca4ae1",
   "metadata": {},
   "outputs": [
    {
     "data": {
      "text/html": [
       "<pre style=\"white-space:pre;overflow-x:auto;line-height:normal;font-family:Menlo,'DejaVu Sans Mono',consolas,'Courier New',monospace\"><span style=\"color: #7fbfbf; text-decoration-color: #7fbfbf\">[09/09/25 10:34:48] </span><span style=\"color: #000080; text-decoration-color: #000080\">INFO    </span> client: Retrieved API version information from the server: <span style=\"color: #008080; text-decoration-color: #008080; font-weight: bold\">1.5</span>.<span style=\"color: #008080; text-decoration-color: #008080; font-weight: bold\">0</span>.    <a href=\"file:///home/lucasmsp/.local/lib/python3.10/site-packages/pyhugegraph/utils/huge_config.py\" target=\"_blank\"><span style=\"color: #7f7f7f; text-decoration-color: #7f7f7f\">huge_config.py</span></a><span style=\"color: #7f7f7f; text-decoration-color: #7f7f7f\">:</span><a href=\"file:///home/lucasmsp/.local/lib/python3.10/site-packages/pyhugegraph/utils/huge_config.py#50\" target=\"_blank\"><span style=\"color: #7f7f7f; text-decoration-color: #7f7f7f\">50</span></a>\n",
       "</pre>\n"
      ],
      "text/plain": [
       "\u001b[2;36m[09/09/25 10:34:48]\u001b[0m\u001b[2;36m \u001b[0m\u001b[34mINFO    \u001b[0m client: Retrieved API version information from the server: \u001b[1;36m1.5\u001b[0m.\u001b[1;36m0\u001b[0m.    \u001b]8;id=632998;file:///home/lucasmsp/.local/lib/python3.10/site-packages/pyhugegraph/utils/huge_config.py\u001b\\\u001b[2mhuge_config.py\u001b[0m\u001b]8;;\u001b\\\u001b[2m:\u001b[0m\u001b]8;id=575538;file:///home/lucasmsp/.local/lib/python3.10/site-packages/pyhugegraph/utils/huge_config.py#50\u001b\\\u001b[2m50\u001b[0m\u001b]8;;\u001b\\\n"
      ]
     },
     "metadata": {},
     "output_type": "display_data"
    }
   ],
   "source": [
    "from pyhugegraph.client import PyHugeClient\n",
    "\n",
    "import pandas as pd\n",
    "\n",
    "\n",
    "client = PyHugeClient(\"localhost\", \"8081\", user=\"\", pwd=\"\", graph=\"hugegraph\")\n"
   ]
  },
  {
   "cell_type": "code",
   "execution_count": 5,
   "id": "adea46bb-ec3e-49d3-b1e5-611bc8902a53",
   "metadata": {},
   "outputs": [
    {
     "name": "stdout",
     "output_type": "stream",
     "text": [
      "Grafos via client: {\"graphs\":[\"hugegraph\"]}\n"
     ]
    }
   ],
   "source": [
    "graphs = client.graphs().get_all_graphs()\n",
    "print(f\"Grafos via client: {graphs}\")"
   ]
  },
  {
   "cell_type": "code",
   "execution_count": 25,
   "id": "43c901cd-6314-455b-93f6-cfe8fd4fcce9",
   "metadata": {},
   "outputs": [
    {
     "data": {
      "text/html": [
       "<pre style=\"white-space:pre;overflow-x:auto;line-height:normal;font-family:Menlo,'DejaVu Sans Mono',consolas,'Courier New',monospace\"><span style=\"color: #7fbfbf; text-decoration-color: #7fbfbf\">[09/09/25 10:17:53] </span><span style=\"color: #000080; text-decoration-color: #000080\">INFO    </span> client: Resource schema/propertykeys/birthDate not found <span style=\"font-weight: bold\">(</span><span style=\"color: #008080; text-decoration-color: #008080; font-weight: bold\">404</span><span style=\"font-weight: bold\">)</span>              <a href=\"file:///home/lucasmsp/.local/lib/python3.10/site-packages/pyhugegraph/utils/util.py\" target=\"_blank\"><span style=\"color: #7f7f7f; text-decoration-color: #7f7f7f\">util.py</span></a><span style=\"color: #7f7f7f; text-decoration-color: #7f7f7f\">:</span><a href=\"file:///home/lucasmsp/.local/lib/python3.10/site-packages/pyhugegraph/utils/util.py#98\" target=\"_blank\"><span style=\"color: #7f7f7f; text-decoration-color: #7f7f7f\">98</span></a>\n",
       "</pre>\n"
      ],
      "text/plain": [
       "\u001b[2;36m[09/09/25 10:17:53]\u001b[0m\u001b[2;36m \u001b[0m\u001b[34mINFO    \u001b[0m client: Resource schema/propertykeys/birthDate not found \u001b[1m(\u001b[0m\u001b[1;36m404\u001b[0m\u001b[1m)\u001b[0m              \u001b]8;id=947000;file:///home/lucasmsp/.local/lib/python3.10/site-packages/pyhugegraph/utils/util.py\u001b\\\u001b[2mutil.py\u001b[0m\u001b]8;;\u001b\\\u001b[2m:\u001b[0m\u001b]8;id=236669;file:///home/lucasmsp/.local/lib/python3.10/site-packages/pyhugegraph/utils/util.py#98\u001b\\\u001b[2m98\u001b[0m\u001b]8;;\u001b\\\n"
      ]
     },
     "metadata": {},
     "output_type": "display_data"
    },
    {
     "data": {
      "text/html": [
       "<pre style=\"white-space:pre;overflow-x:auto;line-height:normal;font-family:Menlo,'DejaVu Sans Mono',consolas,'Courier New',monospace\"><span style=\"color: #7fbfbf; text-decoration-color: #7fbfbf\">                    </span><span style=\"color: #000080; text-decoration-color: #000080\">INFO    </span> client: Resource schema/vertexlabels/Person not found <span style=\"font-weight: bold\">(</span><span style=\"color: #008080; text-decoration-color: #008080; font-weight: bold\">404</span><span style=\"font-weight: bold\">)</span>                 <a href=\"file:///home/lucasmsp/.local/lib/python3.10/site-packages/pyhugegraph/utils/util.py\" target=\"_blank\"><span style=\"color: #7f7f7f; text-decoration-color: #7f7f7f\">util.py</span></a><span style=\"color: #7f7f7f; text-decoration-color: #7f7f7f\">:</span><a href=\"file:///home/lucasmsp/.local/lib/python3.10/site-packages/pyhugegraph/utils/util.py#98\" target=\"_blank\"><span style=\"color: #7f7f7f; text-decoration-color: #7f7f7f\">98</span></a>\n",
       "</pre>\n"
      ],
      "text/plain": [
       "\u001b[2;36m                   \u001b[0m\u001b[2;36m \u001b[0m\u001b[34mINFO    \u001b[0m client: Resource schema/vertexlabels/Person not found \u001b[1m(\u001b[0m\u001b[1;36m404\u001b[0m\u001b[1m)\u001b[0m                 \u001b]8;id=393399;file:///home/lucasmsp/.local/lib/python3.10/site-packages/pyhugegraph/utils/util.py\u001b\\\u001b[2mutil.py\u001b[0m\u001b]8;;\u001b\\\u001b[2m:\u001b[0m\u001b]8;id=261374;file:///home/lucasmsp/.local/lib/python3.10/site-packages/pyhugegraph/utils/util.py#98\u001b\\\u001b[2m98\u001b[0m\u001b]8;;\u001b\\\n"
      ]
     },
     "metadata": {},
     "output_type": "display_data"
    },
    {
     "data": {
      "text/html": [
       "<pre style=\"white-space:pre;overflow-x:auto;line-height:normal;font-family:Menlo,'DejaVu Sans Mono',consolas,'Courier New',monospace\"><span style=\"color: #7fbfbf; text-decoration-color: #7fbfbf\">                    </span><span style=\"color: #000080; text-decoration-color: #000080\">INFO    </span> client: Resource schema/vertexlabels/Movie not found <span style=\"font-weight: bold\">(</span><span style=\"color: #008080; text-decoration-color: #008080; font-weight: bold\">404</span><span style=\"font-weight: bold\">)</span>                  <a href=\"file:///home/lucasmsp/.local/lib/python3.10/site-packages/pyhugegraph/utils/util.py\" target=\"_blank\"><span style=\"color: #7f7f7f; text-decoration-color: #7f7f7f\">util.py</span></a><span style=\"color: #7f7f7f; text-decoration-color: #7f7f7f\">:</span><a href=\"file:///home/lucasmsp/.local/lib/python3.10/site-packages/pyhugegraph/utils/util.py#98\" target=\"_blank\"><span style=\"color: #7f7f7f; text-decoration-color: #7f7f7f\">98</span></a>\n",
       "</pre>\n"
      ],
      "text/plain": [
       "\u001b[2;36m                   \u001b[0m\u001b[2;36m \u001b[0m\u001b[34mINFO    \u001b[0m client: Resource schema/vertexlabels/Movie not found \u001b[1m(\u001b[0m\u001b[1;36m404\u001b[0m\u001b[1m)\u001b[0m                  \u001b]8;id=682858;file:///home/lucasmsp/.local/lib/python3.10/site-packages/pyhugegraph/utils/util.py\u001b\\\u001b[2mutil.py\u001b[0m\u001b]8;;\u001b\\\u001b[2m:\u001b[0m\u001b]8;id=828944;file:///home/lucasmsp/.local/lib/python3.10/site-packages/pyhugegraph/utils/util.py#98\u001b\\\u001b[2m98\u001b[0m\u001b]8;;\u001b\\\n"
      ]
     },
     "metadata": {},
     "output_type": "display_data"
    },
    {
     "data": {
      "text/html": [
       "<pre style=\"white-space:pre;overflow-x:auto;line-height:normal;font-family:Menlo,'DejaVu Sans Mono',consolas,'Courier New',monospace\"><span style=\"color: #7fbfbf; text-decoration-color: #7fbfbf\">                    </span><span style=\"color: #000080; text-decoration-color: #000080\">INFO    </span> client: Resource schema/edgelabels/ActedIn not found <span style=\"font-weight: bold\">(</span><span style=\"color: #008080; text-decoration-color: #008080; font-weight: bold\">404</span><span style=\"font-weight: bold\">)</span>                  <a href=\"file:///home/lucasmsp/.local/lib/python3.10/site-packages/pyhugegraph/utils/util.py\" target=\"_blank\"><span style=\"color: #7f7f7f; text-decoration-color: #7f7f7f\">util.py</span></a><span style=\"color: #7f7f7f; text-decoration-color: #7f7f7f\">:</span><a href=\"file:///home/lucasmsp/.local/lib/python3.10/site-packages/pyhugegraph/utils/util.py#98\" target=\"_blank\"><span style=\"color: #7f7f7f; text-decoration-color: #7f7f7f\">98</span></a>\n",
       "</pre>\n"
      ],
      "text/plain": [
       "\u001b[2;36m                   \u001b[0m\u001b[2;36m \u001b[0m\u001b[34mINFO    \u001b[0m client: Resource schema/edgelabels/ActedIn not found \u001b[1m(\u001b[0m\u001b[1;36m404\u001b[0m\u001b[1m)\u001b[0m                  \u001b]8;id=250280;file:///home/lucasmsp/.local/lib/python3.10/site-packages/pyhugegraph/utils/util.py\u001b\\\u001b[2mutil.py\u001b[0m\u001b]8;;\u001b\\\u001b[2m:\u001b[0m\u001b]8;id=326370;file:///home/lucasmsp/.local/lib/python3.10/site-packages/pyhugegraph/utils/util.py#98\u001b\\\u001b[2m98\u001b[0m\u001b]8;;\u001b\\\n"
      ]
     },
     "metadata": {},
     "output_type": "display_data"
    },
    {
     "name": "stdout",
     "output_type": "stream",
     "text": [
      "[name: person, primary_keys: ['name'], properties: ['name', 'age', 'city'], name: software, primary_keys: ['name'], properties: ['name', 'lang', 'price'], name: Person, primary_keys: ['name'], properties: ['name', 'birthDate'], name: Movie, primary_keys: ['name'], properties: ['name']]\n",
      "[name: knows, properties: ['weight', 'date'], name: created, properties: ['weight', 'date'], name: ActedIn, properties: []]\n",
      "['person--knows-->person', 'person--created-->software', 'Person--ActedIn-->Movie']\n"
     ]
    }
   ],
   "source": [
    "schema = client.schema()\n",
    "schema.propertyKey(\"name\").asText().ifNotExist().create()\n",
    "schema.propertyKey(\"birthDate\").asText().ifNotExist().create()\n",
    "schema.vertexLabel(\"Person\").properties(\"name\", \"birthDate\").usePrimaryKeyId().primaryKeys(\"name\").ifNotExist().create()\n",
    "schema.vertexLabel(\"Movie\").properties(\"name\").usePrimaryKeyId().primaryKeys(\"name\").ifNotExist().create()\n",
    "schema.edgeLabel(\"ActedIn\").sourceLabel(\"Person\").targetLabel(\"Movie\").ifNotExist().create()\n",
    "\n",
    "print(schema.getVertexLabels())\n",
    "print(schema.getEdgeLabels())\n",
    "print(schema.getRelations())\n"
   ]
  },
  {
   "cell_type": "code",
   "execution_count": 30,
   "id": "d9da27d5-ac3b-4712-a6a7-702cd30bb05b",
   "metadata": {},
   "outputs": [],
   "source": [
    "\n",
    "# Init Graph\n",
    "g = client.graph()\n",
    "v_al_pacino = g.addVertex(\"Person\", {\"name\": \"Al Pacino\", \"birthDate\": \"1940-04-25\"})\n",
    "v_robert = g.addVertex(\"Person\", {\"name\": \"Robert De Niro\", \"birthDate\": \"1943-08-17\"})\n",
    "v_godfather = g.addVertex(\"Movie\", {\"name\": \"The Godfather\"})\n",
    "v_godfather2 = g.addVertex(\"Movie\", {\"name\": \"The Godfather Part II\"})\n",
    "v_godfather3 = g.addVertex(\"Movie\", {\"name\": \"The Godfather Coda The Death of Michael Corleone\"})"
   ]
  },
  {
   "cell_type": "code",
   "execution_count": 32,
   "id": "e0b7dac3-3b55-4ef9-80a7-724783850ba5",
   "metadata": {},
   "outputs": [
    {
     "data": {
      "text/plain": [
       "'Person'"
      ]
     },
     "execution_count": 32,
     "metadata": {},
     "output_type": "execute_result"
    }
   ],
   "source": [
    "g.addEdge(\"ActedIn\", v_al_pacino.id, v_godfather.id, {})\n",
    "g.addEdge(\"ActedIn\", v_al_pacino.id, v_godfather2.id, {})\n",
    "g.addEdge(\"ActedIn\", v_al_pacino.id, v_godfather3.id, {})\n",
    "g.addEdge(\"ActedIn\", v_robert.id, v_godfather2.id, {})\n",
    "\n",
    "res = g.getVertexById(v_al_pacino.id).label\n",
    "res"
   ]
  },
  {
   "cell_type": "code",
   "execution_count": 36,
   "id": "47e03d2e-32e7-4169-b47a-836d5db4267b",
   "metadata": {},
   "outputs": [],
   "source": [
    "g.close()"
   ]
  },
  {
   "cell_type": "code",
   "execution_count": 39,
   "id": "d76c6d7a-67df-4a27-ada8-a777b6e294d4",
   "metadata": {},
   "outputs": [
    {
     "name": "stdout",
     "output_type": "stream",
     "text": [
      "{'id': '2:lop', 'label': 'software', 'type': 'vertex', 'properties': {'name': 'lop', 'lang': 'java', 'price': 328}}\n",
      "{'id': '1:josh', 'label': 'person', 'type': 'vertex', 'properties': {'name': 'josh', 'age': 32, 'city': 'Beijing'}}\n",
      "{'id': '1:marko', 'label': 'person', 'type': 'vertex', 'properties': {'name': 'marko', 'age': 29, 'city': 'Beijing'}}\n",
      "{'id': '1:peter', 'label': 'person', 'type': 'vertex', 'properties': {'name': 'peter', 'age': 35, 'city': 'Shanghai'}}\n",
      "{'id': '1:vadas', 'label': 'person', 'type': 'vertex', 'properties': {'name': 'vadas', 'age': 27, 'city': 'Hongkong'}}\n",
      "{'id': '2:ripple', 'label': 'software', 'type': 'vertex', 'properties': {'name': 'ripple', 'lang': 'java', 'price': 199}}\n",
      "{'id': '3:Al Pacino', 'label': 'Person', 'type': 'vertex', 'properties': {'name': 'Al Pacino', 'birthDate': '1940-04-25'}}\n",
      "{'id': '4:The Godfather', 'label': 'Movie', 'type': 'vertex', 'properties': {'name': 'The Godfather'}}\n",
      "{'id': '3:Robert De Niro', 'label': 'Person', 'type': 'vertex', 'properties': {'name': 'Robert De Niro', 'birthDate': '1943-08-17'}}\n",
      "{'id': '4:The Godfather Part II', 'label': 'Movie', 'type': 'vertex', 'properties': {'name': 'The Godfather Part II'}}\n",
      "{'id': '4:The Godfather Coda The Death of Michael Corleone', 'label': 'Movie', 'type': 'vertex', 'properties': {'name': 'The Godfather Coda The Death of Michael Corleone'}}\n"
     ]
    }
   ],
   "source": [
    "# Execute a Gremlin query\n",
    "g = client.gremlin()\n",
    "res = g.exec(\"g.V().limit(100)\")\n",
    "for v in res['data']:\n",
    "    print(v)"
   ]
  },
  {
   "cell_type": "markdown",
   "id": "98e89088-9b1a-4e4d-b136-f9aa4f787e09",
   "metadata": {},
   "source": [
    "### Pyspark"
   ]
  },
  {
   "cell_type": "code",
   "execution_count": 8,
   "id": "6c8e9d19-a90f-4812-9bca-c196236b3f27",
   "metadata": {},
   "outputs": [
    {
     "name": "stdout",
     "output_type": "stream",
     "text": [
      "/bin/bash: linha 1: /home/lucasmsp/workspace/mpmg/gbms/hugegraph/hugegraph-spark-connector-1.5.0.jar: Permissão negada\n"
     ]
    }
   ],
   "source": [
    "! /opt/workspace/mpmg/gbms/hugegraph/hugegraph-spark-connector-1.5.0.jar"
   ]
  },
  {
   "cell_type": "code",
   "execution_count": 1,
   "id": "2b735dd0-17c9-4236-990f-76297db0ab1d",
   "metadata": {},
   "outputs": [
    {
     "name": "stderr",
     "output_type": "stream",
     "text": [
      "SLF4J: Class path contains multiple SLF4J bindings.\n",
      "SLF4J: Found binding in [jar:file:/opt/workspace/mpmg/gbms/hugegraph/hugegraph-spark-connector-1.5.0.jar!/org/slf4j/impl/StaticLoggerBinder.class]\n",
      "SLF4J: Found binding in [jar:file:/opt/spark-3.3.0/jars/log4j-slf4j-impl-2.17.2.jar!/org/slf4j/impl/StaticLoggerBinder.class]\n",
      "SLF4J: See http://www.slf4j.org/codes.html#multiple_bindings for an explanation.\n",
      "SLF4J: Actual binding is of type [org.apache.logging.slf4j.Log4jLoggerFactory]\n"
     ]
    },
    {
     "name": "stdout",
     "output_type": "stream",
     "text": [
      "25/09/09 10:55:58 WARN Utils: Your hostname, lucasmsp-Inspiron-7580 resolves to a loopback address: 127.0.1.1; using 192.168.15.13 instead (on interface wlp3s0)\n",
      "25/09/09 10:55:58 WARN Utils: Set SPARK_LOCAL_IP if you need to bind to another address\n",
      "25/09/09 10:55:58 WARN NativeCodeLoader: Unable to load native-hadoop library for your platform... using builtin-java classes where applicable\n"
     ]
    },
    {
     "name": "stderr",
     "output_type": "stream",
     "text": [
      "Setting default log level to \"WARN\".\n",
      "To adjust logging level use sc.setLogLevel(newLevel). For SparkR, use setLogLevel(newLevel).\n"
     ]
    },
    {
     "name": "stdout",
     "output_type": "stream",
     "text": [
      "25/09/09 10:55:59 WARN Utils: Service 'SparkUI' could not bind on port 4040. Attempting port 4041.\n"
     ]
    }
   ],
   "source": [
    "from pyspark.sql import SparkSession\n",
    "\n",
    "spark = SparkSession.builder.config(\n",
    "    \"spark.jars\", \"/opt/workspace/mpmg/gbms/hugegraph/hugegraph-spark-connector-1.5.0.jar\"\n",
    ").config(\"spark.driver.extraClassPath\",\"/opt/workspace/mpmg/gbms/hugegraph/hugegraph-spark-connector-1.5.0.jar\"\n",
    "        ).config(\"spark.executor.extraClassPath\",\"/opt/workspace/mpmg/gbms/hugegraph/hugegraph-spark-connector-1.5.0.jar\"\n",
    "        ).appName(\n",
    "    \"hugegraph-connector\"\n",
    ").getOrCreate()\n"
   ]
  },
  {
   "cell_type": "code",
   "execution_count": null,
   "id": "db864e8d-1827-4005-b7ae-4e148691f42d",
   "metadata": {},
   "outputs": [],
   "source": [
    "API ainda permite só escrever ! "
   ]
  },
  {
   "cell_type": "code",
   "execution_count": 2,
   "id": "8e6bc17c-6e49-46d0-918f-d8e265443bbd",
   "metadata": {},
   "outputs": [
    {
     "ename": "AnalysisException",
     "evalue": "org.apache.hugegraph.spark.connector.DataSource is not a valid Spark SQL Data Source.",
     "output_type": "error",
     "traceback": [
      "\u001b[0;31m---------------------------------------------------------------------------\u001b[0m",
      "\u001b[0;31mAnalysisException\u001b[0m                         Traceback (most recent call last)",
      "\u001b[0;32m/tmp/ipykernel_1204091/1780962739.py\u001b[0m in \u001b[0;36m<module>\u001b[0;34m\u001b[0m\n\u001b[1;32m      7\u001b[0m   \u001b[0;34m.\u001b[0m\u001b[0moption\u001b[0m\u001b[0;34m(\u001b[0m\u001b[0;34m\"id\"\u001b[0m\u001b[0;34m,\u001b[0m \u001b[0;34m\"name\"\u001b[0m\u001b[0;34m)\u001b[0m\u001b[0;34m\u001b[0m\u001b[0;34m\u001b[0m\u001b[0m\n\u001b[1;32m      8\u001b[0m   \u001b[0;34m.\u001b[0m\u001b[0moption\u001b[0m\u001b[0;34m(\u001b[0m\u001b[0;34m\"batch-size\"\u001b[0m\u001b[0;34m,\u001b[0m \u001b[0;36m2\u001b[0m\u001b[0;34m)\u001b[0m\u001b[0;34m\u001b[0m\u001b[0;34m\u001b[0m\u001b[0m\n\u001b[0;32m----> 9\u001b[0;31m   \u001b[0;34m.\u001b[0m\u001b[0mload\u001b[0m\u001b[0;34m(\u001b[0m\u001b[0;34m)\u001b[0m\u001b[0;34m\u001b[0m\u001b[0;34m\u001b[0m\u001b[0m\n\u001b[0m\u001b[1;32m     10\u001b[0m ).show()\n",
      "\u001b[0;32m/opt/spark/python/pyspark/sql/readwriter.py\u001b[0m in \u001b[0;36mload\u001b[0;34m(self, path, format, schema, **options)\u001b[0m\n\u001b[1;32m    182\u001b[0m             \u001b[0;32mreturn\u001b[0m \u001b[0mself\u001b[0m\u001b[0;34m.\u001b[0m\u001b[0m_df\u001b[0m\u001b[0;34m(\u001b[0m\u001b[0mself\u001b[0m\u001b[0;34m.\u001b[0m\u001b[0m_jreader\u001b[0m\u001b[0;34m.\u001b[0m\u001b[0mload\u001b[0m\u001b[0;34m(\u001b[0m\u001b[0mself\u001b[0m\u001b[0;34m.\u001b[0m\u001b[0m_spark\u001b[0m\u001b[0;34m.\u001b[0m\u001b[0m_sc\u001b[0m\u001b[0;34m.\u001b[0m\u001b[0m_jvm\u001b[0m\u001b[0;34m.\u001b[0m\u001b[0mPythonUtils\u001b[0m\u001b[0;34m.\u001b[0m\u001b[0mtoSeq\u001b[0m\u001b[0;34m(\u001b[0m\u001b[0mpath\u001b[0m\u001b[0;34m)\u001b[0m\u001b[0;34m)\u001b[0m\u001b[0;34m)\u001b[0m\u001b[0;34m\u001b[0m\u001b[0;34m\u001b[0m\u001b[0m\n\u001b[1;32m    183\u001b[0m         \u001b[0;32melse\u001b[0m\u001b[0;34m:\u001b[0m\u001b[0;34m\u001b[0m\u001b[0;34m\u001b[0m\u001b[0m\n\u001b[0;32m--> 184\u001b[0;31m             \u001b[0;32mreturn\u001b[0m \u001b[0mself\u001b[0m\u001b[0;34m.\u001b[0m\u001b[0m_df\u001b[0m\u001b[0;34m(\u001b[0m\u001b[0mself\u001b[0m\u001b[0;34m.\u001b[0m\u001b[0m_jreader\u001b[0m\u001b[0;34m.\u001b[0m\u001b[0mload\u001b[0m\u001b[0;34m(\u001b[0m\u001b[0;34m)\u001b[0m\u001b[0;34m)\u001b[0m\u001b[0;34m\u001b[0m\u001b[0;34m\u001b[0m\u001b[0m\n\u001b[0m\u001b[1;32m    185\u001b[0m \u001b[0;34m\u001b[0m\u001b[0m\n\u001b[1;32m    186\u001b[0m     def json(\n",
      "\u001b[0;32m/opt/spark/python/lib/py4j-0.10.9.5-src.zip/py4j/java_gateway.py\u001b[0m in \u001b[0;36m__call__\u001b[0;34m(self, *args)\u001b[0m\n\u001b[1;32m   1319\u001b[0m \u001b[0;34m\u001b[0m\u001b[0m\n\u001b[1;32m   1320\u001b[0m         \u001b[0manswer\u001b[0m \u001b[0;34m=\u001b[0m \u001b[0mself\u001b[0m\u001b[0;34m.\u001b[0m\u001b[0mgateway_client\u001b[0m\u001b[0;34m.\u001b[0m\u001b[0msend_command\u001b[0m\u001b[0;34m(\u001b[0m\u001b[0mcommand\u001b[0m\u001b[0;34m)\u001b[0m\u001b[0;34m\u001b[0m\u001b[0;34m\u001b[0m\u001b[0m\n\u001b[0;32m-> 1321\u001b[0;31m         return_value = get_return_value(\n\u001b[0m\u001b[1;32m   1322\u001b[0m             answer, self.gateway_client, self.target_id, self.name)\n\u001b[1;32m   1323\u001b[0m \u001b[0;34m\u001b[0m\u001b[0m\n",
      "\u001b[0;32m/opt/spark/python/pyspark/sql/utils.py\u001b[0m in \u001b[0;36mdeco\u001b[0;34m(*a, **kw)\u001b[0m\n\u001b[1;32m    194\u001b[0m                 \u001b[0;31m# Hide where the exception came from that shows a non-Pythonic\u001b[0m\u001b[0;34m\u001b[0m\u001b[0;34m\u001b[0m\u001b[0m\n\u001b[1;32m    195\u001b[0m                 \u001b[0;31m# JVM exception message.\u001b[0m\u001b[0;34m\u001b[0m\u001b[0;34m\u001b[0m\u001b[0m\n\u001b[0;32m--> 196\u001b[0;31m                 \u001b[0;32mraise\u001b[0m \u001b[0mconverted\u001b[0m \u001b[0;32mfrom\u001b[0m \u001b[0;32mNone\u001b[0m\u001b[0;34m\u001b[0m\u001b[0;34m\u001b[0m\u001b[0m\n\u001b[0m\u001b[1;32m    197\u001b[0m             \u001b[0;32melse\u001b[0m\u001b[0;34m:\u001b[0m\u001b[0;34m\u001b[0m\u001b[0;34m\u001b[0m\u001b[0m\n\u001b[1;32m    198\u001b[0m                 \u001b[0;32mraise\u001b[0m\u001b[0;34m\u001b[0m\u001b[0;34m\u001b[0m\u001b[0m\n",
      "\u001b[0;31mAnalysisException\u001b[0m: org.apache.hugegraph.spark.connector.DataSource is not a valid Spark SQL Data Source."
     ]
    }
   ],
   "source": [
    "(spark.read.format(\"org.apache.hugegraph.spark.connector.DataSource\")\n",
    "  .option(\"host\", \"localhost\")\n",
    "  .option(\"port\", \"8081\")\n",
    "  .option(\"graph\", \"hugegraph\")\n",
    "  .option(\"data-type\", \"vertex\")\n",
    "  .option(\"label\", \"Person\")\n",
    "  .option(\"id\", \"name\")\n",
    "  .option(\"batch-size\", 2)\n",
    "  .load()\n",
    ").show()"
   ]
  },
  {
   "cell_type": "code",
   "execution_count": null,
   "id": "f9e68e48-5f92-46a1-ae14-43b6558d80f1",
   "metadata": {},
   "outputs": [],
   "source": []
  }
 ],
 "metadata": {
  "kernelspec": {
   "display_name": "Python 3 (ipykernel)",
   "language": "python",
   "name": "python3"
  },
  "language_info": {
   "codemirror_mode": {
    "name": "ipython",
    "version": 3
   },
   "file_extension": ".py",
   "mimetype": "text/x-python",
   "name": "python",
   "nbconvert_exporter": "python",
   "pygments_lexer": "ipython3",
   "version": "3.10.12"
  }
 },
 "nbformat": 4,
 "nbformat_minor": 5
}

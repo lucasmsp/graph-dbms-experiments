{
 "cells": [
  {
   "cell_type": "markdown",
   "id": "526c287f-66ae-41dd-82ac-7314d10b023f",
   "metadata": {},
   "source": [
    "### Dgraph\n",
    "\n",
    "https://docs.hypermode.com/dgraph/self-managed/single-host-setup#docker-compose\n",
    "\n",
    "\n",
    "https://github.com/hypermodeinc/pydgraph/blob/main/examples/notebook/self_managed_cluster.ipynb\n",
    "\n",
    "\n",
    "\n",
    "Conexão com o Spark: https://github.com/G-Research/spark-dgraph-connector\n",
    "\n",
    "Limitations: \n",
    " * Read-only: The connector does not support mutating the graph.\n",
    " * Namespaces: The connector can only read the default namespace\n",
    " * Authorization: No authorization against Dgraph supported\n",
    "\n",
    "\n",
    "Multi-tenancy is an enterprise feature and needs Access Control Lists (ACL) enabled to work.\n",
    "\n",
    "\n",
    "A Dgraph cluster consists of the following:\n",
    " * Dgraph Alpha database server nodes: The Dgraph Alpha server nodes in your deployment host and serve data. These nodes also host an /admin HTTP and gRPC endpoint that can be used for data and node administration tasks such as backup, export, draining, and shutdown.\n",
    " * Dgraph Zero management server nodes: The Dgraph Zero nodes in your deployment control the nodes in your Dgraph cluster. Dgraph Zero automatically moves data between different Dgraph Alpha instances based on the volume of data served by each Alpha instance."
   ]
  },
  {
   "cell_type": "code",
   "execution_count": 1,
   "id": "a91d8937-ccb6-4258-95e2-434884b046cf",
   "metadata": {},
   "outputs": [
    {
     "name": "stdout",
     "output_type": "stream",
     "text": [
      "Defaulting to user installation because normal site-packages is not writeable\n",
      "Collecting pydgraph\n",
      "  Downloading pydgraph-24.3.0-py3-none-any.whl.metadata (36 kB)\n",
      "Collecting grpcio<2.0.0,>=1.65.0 (from pydgraph)\n",
      "  Downloading grpcio-1.75.0-cp310-cp310-manylinux2014_x86_64.manylinux_2_17_x86_64.whl.metadata (3.7 kB)\n",
      "Collecting protobuf<7.0.0,>=4.23.0 (from pydgraph)\n",
      "  Downloading protobuf-6.32.1-cp39-abi3-manylinux2014_x86_64.whl.metadata (593 bytes)\n",
      "Collecting typing-extensions~=4.12 (from grpcio<2.0.0,>=1.65.0->pydgraph)\n",
      "  Downloading typing_extensions-4.15.0-py3-none-any.whl.metadata (3.3 kB)\n",
      "Downloading pydgraph-24.3.0-py3-none-any.whl (30 kB)\n",
      "Downloading grpcio-1.75.0-cp310-cp310-manylinux2014_x86_64.manylinux_2_17_x86_64.whl (6.5 MB)\n",
      "\u001b[2K   \u001b[38;2;114;156;31m━━━━━━━━━━━━━━━━━━━━━━━━━━━━━━━━━━━━━━━━\u001b[0m \u001b[32m6.5/6.5 MB\u001b[0m \u001b[31m52.1 MB/s\u001b[0m eta \u001b[36m0:00:00\u001b[0m\n",
      "\u001b[?25hDownloading protobuf-6.32.1-cp39-abi3-manylinux2014_x86_64.whl (322 kB)\n",
      "Downloading typing_extensions-4.15.0-py3-none-any.whl (44 kB)\n",
      "Installing collected packages: typing-extensions, protobuf, grpcio, pydgraph\n",
      "  Attempting uninstall: typing-extensions\n",
      "    Found existing installation: typing_extensions 4.10.0\n",
      "    Uninstalling typing_extensions-4.10.0:\n",
      "      Successfully uninstalled typing_extensions-4.10.0\n",
      "\u001b[31mERROR: pip's dependency resolver does not currently take into account all the packages that are installed. This behaviour is the source of the following dependency conflicts.\n",
      "tensorboard 2.11.2 requires protobuf<4,>=3.9.2, but you have protobuf 6.32.1 which is incompatible.\n",
      "tensorflow-cpu 2.11.0 requires protobuf<3.20,>=3.9.2, but you have protobuf 6.32.1 which is incompatible.\u001b[0m\u001b[31m\n",
      "\u001b[0mSuccessfully installed grpcio-1.75.0 protobuf-6.32.1 pydgraph-24.3.0 typing-extensions-4.15.0\n",
      "\n",
      "\u001b[1m[\u001b[0m\u001b[34;49mnotice\u001b[0m\u001b[1;39;49m]\u001b[0m\u001b[39;49m A new release of pip is available: \u001b[0m\u001b[31;49m24.2\u001b[0m\u001b[39;49m -> \u001b[0m\u001b[32;49m25.2\u001b[0m\n",
      "\u001b[1m[\u001b[0m\u001b[34;49mnotice\u001b[0m\u001b[1;39;49m]\u001b[0m\u001b[39;49m To update, run: \u001b[0m\u001b[32;49mpython3 -m pip install --upgrade pip\u001b[0m\n"
     ]
    }
   ],
   "source": [
    "!pip install pydgraph    # DQL"
   ]
  },
  {
   "cell_type": "code",
   "execution_count": 4,
   "id": "eb2af3e8-aed1-4a66-a55e-29e46be02436",
   "metadata": {},
   "outputs": [
    {
     "name": "stdout",
     "output_type": "stream",
     "text": [
      "Defaulting to user installation because normal site-packages is not writeable\n",
      "Collecting python-graphql-client\n",
      "  Downloading python_graphql_client-0.4.3-py3-none-any.whl.metadata (4.4 kB)\n",
      "Requirement already satisfied: aiohttp~=3.0 in /home/lucasmsp/.local/lib/python3.10/site-packages (from python-graphql-client) (3.11.11)\n",
      "Requirement already satisfied: requests~=2.0 in /home/lucasmsp/.local/lib/python3.10/site-packages (from python-graphql-client) (2.32.5)\n",
      "Collecting websockets>=5.0 (from python-graphql-client)\n",
      "  Downloading websockets-15.0.1-cp310-cp310-manylinux_2_5_x86_64.manylinux1_x86_64.manylinux_2_17_x86_64.manylinux2014_x86_64.whl.metadata (6.8 kB)\n",
      "Requirement already satisfied: aiohappyeyeballs>=2.3.0 in /home/lucasmsp/.local/lib/python3.10/site-packages (from aiohttp~=3.0->python-graphql-client) (2.4.4)\n",
      "Requirement already satisfied: aiosignal>=1.1.2 in /home/lucasmsp/.local/lib/python3.10/site-packages (from aiohttp~=3.0->python-graphql-client) (1.3.2)\n",
      "Requirement already satisfied: async-timeout<6.0,>=4.0 in /home/lucasmsp/.local/lib/python3.10/site-packages (from aiohttp~=3.0->python-graphql-client) (4.0.3)\n",
      "Requirement already satisfied: attrs>=17.3.0 in /home/lucasmsp/.local/lib/python3.10/site-packages (from aiohttp~=3.0->python-graphql-client) (25.3.0)\n",
      "Requirement already satisfied: frozenlist>=1.1.1 in /home/lucasmsp/.local/lib/python3.10/site-packages (from aiohttp~=3.0->python-graphql-client) (1.5.0)\n",
      "Requirement already satisfied: multidict<7.0,>=4.5 in /home/lucasmsp/.local/lib/python3.10/site-packages (from aiohttp~=3.0->python-graphql-client) (6.1.0)\n",
      "Requirement already satisfied: propcache>=0.2.0 in /home/lucasmsp/.local/lib/python3.10/site-packages (from aiohttp~=3.0->python-graphql-client) (0.2.1)\n",
      "Requirement already satisfied: yarl<2.0,>=1.17.0 in /home/lucasmsp/.local/lib/python3.10/site-packages (from aiohttp~=3.0->python-graphql-client) (1.18.3)\n",
      "Requirement already satisfied: charset_normalizer<4,>=2 in /home/lucasmsp/.local/lib/python3.10/site-packages (from requests~=2.0->python-graphql-client) (3.0.1)\n",
      "Requirement already satisfied: idna<4,>=2.5 in /usr/lib/python3/dist-packages (from requests~=2.0->python-graphql-client) (3.3)\n",
      "Requirement already satisfied: urllib3<3,>=1.21.1 in /home/lucasmsp/.local/lib/python3.10/site-packages (from requests~=2.0->python-graphql-client) (2.2.3)\n",
      "Requirement already satisfied: certifi>=2017.4.17 in /home/lucasmsp/.local/lib/python3.10/site-packages (from requests~=2.0->python-graphql-client) (2025.4.26)\n",
      "Requirement already satisfied: typing-extensions>=4.1.0 in /home/lucasmsp/.local/lib/python3.10/site-packages (from multidict<7.0,>=4.5->aiohttp~=3.0->python-graphql-client) (4.15.0)\n",
      "Downloading python_graphql_client-0.4.3-py3-none-any.whl (4.9 kB)\n",
      "Downloading websockets-15.0.1-cp310-cp310-manylinux_2_5_x86_64.manylinux1_x86_64.manylinux_2_17_x86_64.manylinux2014_x86_64.whl (181 kB)\n",
      "Installing collected packages: websockets, python-graphql-client\n",
      "Successfully installed python-graphql-client-0.4.3 websockets-15.0.1\n",
      "\n",
      "\u001b[1m[\u001b[0m\u001b[34;49mnotice\u001b[0m\u001b[1;39;49m]\u001b[0m\u001b[39;49m A new release of pip is available: \u001b[0m\u001b[31;49m24.2\u001b[0m\u001b[39;49m -> \u001b[0m\u001b[32;49m25.2\u001b[0m\n",
      "\u001b[1m[\u001b[0m\u001b[34;49mnotice\u001b[0m\u001b[1;39;49m]\u001b[0m\u001b[39;49m To update, run: \u001b[0m\u001b[32;49mpython3 -m pip install --upgrade pip\u001b[0m\n"
     ]
    }
   ],
   "source": [
    "! pip install python-graphql-client   # GraphQL"
   ]
  },
  {
   "cell_type": "code",
   "execution_count": 2,
   "id": "df4588b5-8a42-4b93-a0df-67a61550ac2e",
   "metadata": {},
   "outputs": [],
   "source": [
    "import pydgraph\n",
    "import json\n",
    "\n",
    "# Inicialize o stub do cliente apontando para o endereço do Alpha (padrão: localhost:9080)\n",
    "client_stub = pydgraph.DgraphClientStub('localhost:9080')\n",
    "\n",
    "# Crie o cliente\n",
    "client = pydgraph.DgraphClient(client_stub)\n"
   ]
  },
  {
   "cell_type": "code",
   "execution_count": 5,
   "id": "e5cb33e7-f600-46a8-bc94-f6a8278ca41f",
   "metadata": {},
   "outputs": [
    {
     "data": {
      "text/plain": []
     },
     "execution_count": 5,
     "metadata": {},
     "output_type": "execute_result"
    }
   ],
   "source": [
    "schema = \"\"\"\n",
    "name: string @index(exact) .\n",
    "friend: [uid] .\n",
    "age: int .\n",
    "\"\"\"\n",
    "operation = pydgraph.Operation(schema=schema)\n",
    "client.alter(operation)"
   ]
  },
  {
   "cell_type": "code",
   "execution_count": 6,
   "id": "e0c1cc69-a6a5-4606-bb10-9fbb997235ad",
   "metadata": {},
   "outputs": [],
   "source": [
    "# Estrutura dos dados\n",
    "pessoa = {\n",
    "    'uid': '_:alice',\n",
    "    'name': 'Alice',\n",
    "    'age': 26,\n",
    "    'friend': [\n",
    "        {\n",
    "            'uid': '_:bob',\n",
    "            'name': 'Bob',\n",
    "            'age': 24,\n",
    "        }\n",
    "    ],\n",
    "}\n",
    "\n",
    "# Insira no banco como mutação\n",
    "txn = client.txn()\n",
    "try:\n",
    "    assigned = txn.mutate(set_obj=pessoa)\n",
    "    txn.commit()\n",
    "finally:\n",
    "    txn.discard()"
   ]
  },
  {
   "cell_type": "code",
   "execution_count": 18,
   "id": "b50f75cb-3ea6-4dda-807d-4be46db314d2",
   "metadata": {},
   "outputs": [
    {
     "name": "stdout",
     "output_type": "stream",
     "text": [
      "b'{\"all\":[{\"uid\":\"0x1\",\"name\":\"Alice\"},{\"uid\":\"0x2\",\"name\":\"Bob\"}]}'\n"
     ]
    }
   ],
   "source": [
    "query = \"\"\"{\n",
    "  all(func: has(name)) {\n",
    "    uid\n",
    "    name\n",
    "  }\n",
    "}\"\"\"\n",
    "\n",
    "res = client.txn(read_only=True).query(query)\n",
    "data = res.json\n",
    "print(data)\n"
   ]
  },
  {
   "cell_type": "code",
   "execution_count": 13,
   "id": "3aa2a1ec-e99e-490f-9c71-28bca8c05375",
   "metadata": {},
   "outputs": [
    {
     "data": {
      "text/plain": [
       "b'{\"nodes\":[{\"uid\":\"0x2\",\"name\":\"Bob\",\"age\":24}]}'"
      ]
     },
     "execution_count": 13,
     "metadata": {},
     "output_type": "execute_result"
    }
   ],
   "source": [
    "# Consultar nós cujo atributo 'name' seja exatamente 'bob'\n",
    "\n",
    "\n",
    "query = \"\"\"\n",
    "{\n",
    "  nodes(func: eq(name, \"Bob\")) {\n",
    "    uid\n",
    "    name\n",
    "    age\n",
    "  }\n",
    "}\n",
    "\"\"\"\n",
    "\n",
    "res = client.txn(read_only=True).query(query)\n",
    "res.json"
   ]
  },
  {
   "cell_type": "code",
   "execution_count": null,
   "id": "34476309-2007-4fd2-a0d2-c5445cafbce3",
   "metadata": {},
   "outputs": [],
   "source": []
  }
 ],
 "metadata": {
  "kernelspec": {
   "display_name": "Python 3 (ipykernel)",
   "language": "python",
   "name": "python3"
  },
  "language_info": {
   "codemirror_mode": {
    "name": "ipython",
    "version": 3
   },
   "file_extension": ".py",
   "mimetype": "text/x-python",
   "name": "python",
   "nbconvert_exporter": "python",
   "pygments_lexer": "ipython3",
   "version": "3.10.12"
  }
 },
 "nbformat": 4,
 "nbformat_minor": 5
}
